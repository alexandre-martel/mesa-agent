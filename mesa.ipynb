{
 "cells": [
  {
   "cell_type": "code",
   "execution_count": 7,
   "id": "initial_id",
   "metadata": {
    "ExecuteTime": {
     "end_time": "2024-09-24T07:43:00.311464Z",
     "start_time": "2024-09-24T07:43:00.308412Z"
    },
    "collapsed": true
   },
   "outputs": [],
   "source": [
    "from mesa import Agent, Model\n",
    "from mesa.datacollection import DataCollector\n",
    "from mesa.time import SimultaneousActivation\n",
    "from mesa.space import MultiGrid\n"
   ]
  },
  {
   "cell_type": "code",
   "execution_count": 8,
   "id": "809079cc9c8ea021",
   "metadata": {
    "ExecuteTime": {
     "end_time": "2024-09-24T07:43:02.146631Z",
     "start_time": "2024-09-24T07:43:02.142136Z"
    }
   },
   "outputs": [],
   "source": [
    "class PatientAgent(Agent):\n",
    "    def __init__(self, name):\n",
    "        super().__init__(name)\n",
    "        self.pathology = 'none'\n",
    "        self.nme = 'none'\n",
    "        \n",
    "    def step(self):\n",
    "        print(f'Hi I am{self.name} with pathology:{self.pathology}')\n",
    "\n",
    "class GlobalMSAModel(Model):\n",
    "    def __initi__(self,N):\n",
    "        super().__init() #Model n'a pas besoin de paramètres; donc paramètre falcultatif pour la classe mère. N correspond au nmbr d'agent init\n",
    "        #on initialise le nombre d'agents de départ à N\n",
    "        self.nbPatientAgent=N\n",
    "        \n",
    "        self.schedule=RandomActivation(self)"
   ]
  },
  {
   "cell_type": "code",
   "execution_count": null,
   "id": "47584b26d8ba5079",
   "metadata": {},
   "outputs": [],
   "source": []
  }
 ],
 "metadata": {
  "kernelspec": {
   "display_name": "Python 3",
   "language": "python",
   "name": "python3"
  },
  "language_info": {
   "codemirror_mode": {
    "name": "ipython",
    "version": 2
   },
   "file_extension": ".py",
   "mimetype": "text/x-python",
   "name": "python",
   "nbconvert_exporter": "python",
   "pygments_lexer": "ipython2",
   "version": "2.7.6"
  }
 },
 "nbformat": 4,
 "nbformat_minor": 5
}
