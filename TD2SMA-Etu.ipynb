{
 "cells": [
  {
   "cell_type": "markdown",
   "id": "117e8999-0923-4bfd-ac10-d94d76d7c13c",
   "metadata": {},
   "source": [
    "# Collecter les données : "
   ]
  },
  {
   "cell_type": "markdown",
   "id": "c188bc00-6259-4c26-965e-31ec98555fb8",
   "metadata": {},
   "source": [
    "La classe DataCollector (mesa.datacollection.DataCollector) est destinée à fournir un moyen simple et standard de collecter les données générées par un modèle Mesa. Elle collecte surtout les données au niveau du modèle et au niveau de l'agent :\n",
    "\n",
    "DataCollector(model_reporters=None, agent_reporters=None, tables=None)\n",
    "https://mesa.readthedocs.io/en/master/apis/datacollection.html?highlight=mesa.Datacollection.DataCollector#datacollection.DataCollector"
   ]
  },
  {
   "cell_type": "markdown",
   "id": "85a62d2e-b160-4b93-b365-278bfdf631d6",
   "metadata": {},
   "source": [
    "Les données sont récupérées dans une DataFrame pandas :\n",
    "* model.datacollector.get_model_vars_dataframe() retourne les données collectées au niveau du système\n",
    "* model.datacollector.get_agent_vars_dataframe() retourne les données collectées au niveau des agents du système"
   ]
  },
  {
   "cell_type": "markdown",
   "id": "92ddd79a-907e-4ae8-b2cb-eceacf6647e8",
   "metadata": {},
   "source": [
    "**<span style=\"color:red\">\n",
    "EXEMPLE\n",
    "</span>**\n",
    "\\\n",
    "Dans cet exemple, une cellule a un attribut _energy_ qui représente en quelque sorte son energie. Une cellule démarre avec une valeur initiale (de l'attribut _energy_) égale à 1. Les cellules qui se \"croisent\" peuvent échanger aléatoirement de l'énergie. L'objectif est d'étudier la répartition finale de l'énergie au niveau du système grâce à l'indicateur de Gini. "
   ]
  },
  {
   "cell_type": "code",
   "execution_count": 1,
   "id": "de64a219-f528-4c02-9926-f85c6804fe6d",
   "metadata": {},
   "outputs": [
    {
     "name": "stderr",
     "output_type": "stream",
     "text": [
      "c:\\Users\\alexa\\Desktop\\Projet_Info\\mesa\\.venv\\Lib\\site-packages\\mesa\\agent.py:52: FutureWarning: The Mesa Model class was not initialized. In the future, you need to explicitly initialize the Model by calling super().__init__() on initialization.\n",
      "  self.model.register_agent(self)\n"
     ]
    },
    {
     "data": {
      "text/plain": [
       "<Axes: >"
      ]
     },
     "execution_count": 1,
     "metadata": {},
     "output_type": "execute_result"
    },
    {
     "data": {
      "image/png": "[encoded data removed]",
      "text/plain": [
       "<Figure size 640x480 with 1 Axes>"
      ]
     },
     "metadata": {},
     "output_type": "display_data"
    }
   ],
   "source": [
    "from mesa import Agent, Model\n",
    "from mesa.datacollection import DataCollector\n",
    "from mesa.time import SimultaneousActivation\n",
    "from mesa.space import MultiGrid\n",
    "\n",
    "class CellAgent(Agent):\n",
    "    \"\"\" An agent with fixed initial energy.\"\"\"\n",
    "    def __init__(self, unique_id, model): \n",
    "        super().__init__(unique_id, model) \n",
    "        self.energy = 1\n",
    "\n",
    "    def move(self):\n",
    "        possible_steps = self.model.grid.get_neighborhood(self.pos,moore=True, include_center=False)\n",
    "        new_position = self.random.choice(possible_steps)\n",
    "        self.model.grid.move_agent(self, new_position)\n",
    "    \n",
    "    def give_energy(self):\n",
    "        cellmates = self.model.grid.get_cell_list_contents([self.pos]) \n",
    "        if len(cellmates) > 1:\n",
    "                other = self.random.choice(cellmates)\n",
    "                other.energy += 1\n",
    "                self.energy -= 1\n",
    "\n",
    "    def step(self): \n",
    "        self.move()\n",
    "        #je donne de l'énergie si j'en ai\n",
    "        if self.energy > 0: \n",
    "            self.give_energy()\n",
    "    \n",
    "\n",
    "def compute_gini(m):\n",
    "        agent_energy = [agent.energy for agent in m.schedule.agents] \n",
    "        x = sorted(agent_energy)\n",
    "        N = model.num_agents\n",
    "        B = sum( xi * (N-i) for i,xi in enumerate(x) ) / (N*sum(x)) \n",
    "        return (1 + (1/N) - 2*B)\n",
    "    \n",
    "class CellModel(Model):\n",
    "    \n",
    "    \"\"\"A model with some number of agents.\"\"\" \n",
    "    def __init__(self, N, width, height):\n",
    "        self.num_agents = N\n",
    "        self.grid = MultiGrid(width, height, True) \n",
    "        self.schedule = SimultaneousActivation(self)\n",
    "        # Create agents\n",
    "        for i in range(self.num_agents):\n",
    "            a = CellAgent(i, self) \n",
    "            self.schedule.add(a)\n",
    "            # Add the agent to a random grid cell\n",
    "            x = self.random.randrange(self.grid.width) \n",
    "            y = self.random.randrange(self.grid.height) \n",
    "            self.grid.place_agent(a, (x, y))\n",
    "        \n",
    "        self.datacollector = DataCollector(\n",
    "            model_reporters={\"Gini\": compute_gini},\n",
    "            agent_reporters={\"Energy\": \"energy\"}) # \"Energy\": lambda a: a.energy\n",
    "    \n",
    "\n",
    "    def step(self): \n",
    "        self.datacollector.collect(self) \n",
    "        self.schedule.step()\n",
    "\n",
    "\n",
    "model = CellModel(50, 10, 10)\n",
    "\n",
    "for i in range(100):\n",
    "    model.step()\n",
    "\n",
    "gini_model = model.datacollector.get_model_vars_dataframe()\n",
    "#print(gini_model)\n",
    "gini_model.plot()\n",
    "#gini_agent = model.datacollector.get_agent_vars_dataframe()\n",
    "#gini_agent.plot()\n",
    "#print(gini_agent)\n"
   ]
  },
  {
   "cell_type": "markdown",
   "id": "ac70167b-3b42-4253-861e-bb8c03dc7c51",
   "metadata": {},
   "source": [
    "**<span style=\"color:red\">\n",
    "EXERCICE\n",
    "</span>**"
   ]
  },
  {
   "cell_type": "markdown",
   "id": "07d98d47-d8b5-4ce3-ab64-349a924df581",
   "metadata": {},
   "source": [
    "# Système multi-agent pour simuler le phénomoène de propagation d’une épidémie"
   ]
  },
  {
   "cell_type": "markdown",
   "id": "0eb6167b-e766-4e24-bd51-6a00d9dc32a5",
   "metadata": {},
   "source": [
    "La prévision de l'issue des épidémies de maladies infectieuses fait désormais l'objet d'une grande attention en raison de la pandémie COVID-19. \n",
    "Un cadre traditionnel pour la propagation des maladies infectieuses est le modèle dit SIR, qui divise une population en trois catégories : sensible (S), infectieuse (I) et rétablie/retirée (R). \n",
    "Ceux-ci peuvent être estimés dans le temps à l'aide d'un ensemble d'équations différentielles, compte tenu des taux de transition connus entre les États. Ces états dépendent de paramètres tels que le Ratio 0 noté par R0 de l'infection. En épidémiologie, le R0 correspond au nombre moyen attendu de cas directement générés par un cas dans une population où tous les individus sont sensibles à l'infection.\n",
    "\\\n",
    "Ces méthodes basées sur des équations sont appelées modèles compartimentaux. \n",
    "Les modèles basés sur les agents sont une avancée plus récente qui simule de nombreux \"agents\" individuels dans la population pour atteindre le même objectif. Les agents sont hétérogènes, avec de multiples attributs et la complexité émerge du comportement global de nombreux agents combinés.\n",
    "Le but de ce TD est de construire un modèle SIR en se basant sur l’approche multi-agent afin d’observer la propogation d’une épidémie à partir d’un ensemble de paramètres. Un agent représentera l’individu qui peut être Sensible, Infecté ou Rétabli. Pour cette première version et afin de simplifier l’exercice, l’agent individu se déplacera dans un espace quadrillé basique (grille). Nous utiliserons la bibliothèque Mesa Python pour développer le Système multi-agent (SMA) et illustrerons également les façons de visualiser graphiquement la simulation.\n",
    "Création d’un modèle simple\n",
    "L'idée principale avec Mesa est de créer deux classes, une pour le modèle et l'autre pour les agents. L'agent gère le comportement de l'individu simulé, par exemple comment il peut infecter d'autres voisins dans une grille ou un réseau. Le modèle contient tous les paramètres généraux et une grille pour les agents en mouvement qu’il crée et suit. La grille est une classe mesa.space.MultiGrid, qui permet à plusieurs agents d'occuper la même cellule. Un agent est une mesa.Agent qui comporte trois états possibles et des transitions entre eux au cours de la simulation. À chaque étape, l'agent se déplacera et pourra alors effectuer toute opération telle que l'infection d'un autre agent dans la même cellule de la grille si l'autre agent est susceptible. L'agent peut également se rétablir au fil du temps.\n",
    "Nous créons d'abord une classe Model (qu’on nomme InfectionModel) qui définit une grille et un planificateur pour gérer les agents activés. Les périodes de temps sont représentées sous forme d'étapes (ticks) et les agents peuvent tous se déplacer une fois pendant chaque « tick ». Dans ce modèle, l'agent se déplace donc d’un pas à chaque étape, d’une manière aléatoire dans la grille et décide s'il peut infecter un autre agent qui se retrouve dans la même cellule que lui. La classe DataCollector permet de suivre les informations relatives aux agents tout au long de la simulation."
   ]
  },
  {
   "cell_type": "markdown",
   "id": "7ef023a8-2e3d-4d80-aacf-940a15c04f33",
   "metadata": {},
   "source": [
    "Soit la classe :"
   ]
  },
  {
   "cell_type": "code",
   "execution_count": null,
   "id": "d547cf8f-d640-44e9-8d71-05ea880d391f",
   "metadata": {},
   "outputs": [],
   "source": [
    "from enum import IntEnum\n",
    "\n",
    "class State(IntEnum):\n",
    "    SUSCEPTIBLE = 0 #susceptible d'être infecté\n",
    "    INFECTED = 1 #infecté\n",
    "    REMOVED = 2 #immunisé"
   ]
  },
  {
   "cell_type": "markdown",
   "id": "5b494283-c998-4cca-89d1-321c50cd25f9",
   "metadata": {},
   "source": [
    "Commencez par créer un agent myAgent représentnant un individu. Cet agent a :\n",
    "* un attribut _age_ initialisé par le constructeur à self.random.normalvariate(20,40)\n",
    "* un attribut _state_ initialisé par le constructeur à State.SUSCEPTIBLE\n",
    "* un attribut infection_time initialisé par le constructeur à 0."
   ]
  },
  {
   "cell_type": "markdown",
   "id": "aac1e7fa-dba8-4328-b372-392152393013",
   "metadata": {},
   "source": [
    "**<span style=\"color:red\">\n",
    "SOLUTION\n",
    "</span>**"
   ]
  },
  {
   "cell_type": "code",
   "execution_count": null,
   "id": "b4187629-3a9f-448e-a1b4-2b99e3074efb",
   "metadata": {},
   "outputs": [],
   "source": []
  },
  {
   "cell_type": "markdown",
   "id": "084110c6-2542-4c49-bdba-05dd77234cc1",
   "metadata": {},
   "source": [
    "2. La fonction step de cet agent est définie comme suit :\n",
    "* l'agent vérifie son état\n",
    "* l'agent se déplace\n",
    "* l'agent entre en contact avec d'autres agents"
   ]
  },
  {
   "cell_type": "code",
   "execution_count": null,
   "id": "19531c94-8238-48e9-a60d-dba85143edb4",
   "metadata": {},
   "outputs": [],
   "source": [
    "def step(self):\n",
    "        self.status()\n",
    "        self.move()\n",
    "        self.contact()"
   ]
  },
  {
   "cell_type": "markdown",
   "id": "fe97289c-1f25-4e26-b64e-5d68625a560b",
   "metadata": {},
   "source": [
    "3. La fonction _**status**_"
   ]
  },
  {
   "cell_type": "markdown",
   "id": "4745f995-43f4-482a-b294-c2e5d16bf1a7",
   "metadata": {},
   "source": [
    "Si l'agent est infecté (state égal à State.INFECTED), alors l'agent peut décéder. La probalibilité de décès **death_rate** est un paramètre du modèle dans lequel se situe l'agent. Vous pouvez utiliser par exemple (voir API bibliothèque numpy): numpy.random.choice([0,1], p=[death_rate,1-death_rate]) pour avoir une valeur au hasard entre 0 et 1 selon des probabilités de tirage."
   ]
  },
  {
   "cell_type": "markdown",
   "id": "da9e28ac-f5d0-4634-86f9-5c0ae8b15ccb",
   "metadata": {},
   "source": [
    "* Si __**0**__ est tiré alors l'agent décède. Dans ce cas, il faut le retirer du système."
   ]
  },
  {
   "cell_type": "markdown",
   "id": "dc90c71e-0b8d-4610-8956-47926fbf83db",
   "metadata": {},
   "source": [
    "* Sinon il faut vérifier si le temps nécessaire pour le rétablissement de l'agent infecté est écoulé:\n",
    "  * Un agent a un attribut __infection_time__ initialisé au temps système dès que ce dernier est infecté par un autre agent infecté. Cet attribut est initialisé au niveau de la fonction _contact_ que vous allez définir plus loin.\n",
    "  * Un agent a aussi un attribut __recovery_time__ initialisé dès que ce dernier est infecté par un autre agent infecté. Cet attribut est également initialisé au niveau de la fonction _contact_ que vous allez définir plus loin.\n",
    "  * donc si la différence entre l'instant système en cours et __infection_time__ de l'agent dépasse son __recovery_time__ , alors l'agent devient immunisé."
   ]
  },
  {
   "cell_type": "markdown",
   "id": "4009dac0-8faf-4396-a45f-151df1a2e28b",
   "metadata": {},
   "source": [
    "**<span style=\"color:red\">\n",
    "SOLUTION\n",
    "</span>**"
   ]
  },
  {
   "cell_type": "code",
   "execution_count": null,
   "id": "30101b4f-e855-4164-9938-30a80751f574",
   "metadata": {},
   "outputs": [],
   "source": []
  },
  {
   "cell_type": "markdown",
   "id": "af235132-eb8b-4e2a-bac4-c7a8eec48536",
   "metadata": {},
   "source": [
    "4. La fonction _**contact**_"
   ]
  },
  {
   "cell_type": "markdown",
   "id": "b1104c6a-010e-4f2b-9b25-f0c259d46772",
   "metadata": {},
   "source": [
    "La transmission se fait selon une probabilité fixée au niveau du modèle qui a un attribut _ptrans_ correspondanr à la probabilité qu’un agent transmette la maladie. Par exemple : 0,5, c’est à dire, lorsqu’un agent est infecté, il y a 50 % de chance qu’il transmette sa maladie aux autres agents qui sont dans la même position que lui."
   ]
  },
  {
   "cell_type": "markdown",
   "id": "bc441a97-f374-4c55-a653-c0a6c50fd062",
   "metadata": {},
   "source": [
    "L'agent vérifie d'abord s'il y a d'autres agents avec lui dans la même cellule. Vous pouvez par exemple utiliser la fonction self.model.grid.get_cell_list_contents([self.pos]) qui revoie la liste des agents dans une liste de cellules en lui donnant une liste composée uniquement de la position actuelle de l'agent."
   ]
  },
  {
   "cell_type": "markdown",
   "id": "c1159fef-aec8-4c42-9846-96c71c8a83ce",
   "metadata": {},
   "source": [
    "Un agent, s'il est infecté, il peut infecter les autres agents qui sont dans la même position que lui. Il parcourt donc la liste des agents qui sont à la même position que lui."
   ]
  },
  {
   "cell_type": "markdown",
   "id": "ea7034f1-f747-48b7-ae6a-8dc572012aea",
   "metadata": {},
   "source": [
    "A chaque fois, l'agent tire une valeur au hasard entre 0 et 1, si cette valeur est supérieure à _ptrans_ rien ne se passe, sinon l'autre agent est infecté (s'il ne l'est pas encore). Dans ce cas:\n",
    "* __infection_time__ de l'agent infecté est initialisé au temps système\n",
    "* __recovery_time__ de l'agent infecté est initialisé self.model.get_recovery_time() il s'agit d'une fonction qui sera définie au niveau du système permettant d'attriburer une durée de rétablissement à chaque agent infecté."
   ]
  },
  {
   "cell_type": "markdown",
   "id": "33939508-cbe5-4ef1-8465-1f8c7e5d290d",
   "metadata": {},
   "source": [
    "**<span style=\"color:red\">\n",
    "SOLUTION\n",
    "</span>**"
   ]
  },
  {
   "cell_type": "code",
   "execution_count": null,
   "id": "2dcb3ea8-72ca-4aaf-8aad-75bfe2c50502",
   "metadata": {},
   "outputs": [],
   "source": []
  },
  {
   "cell_type": "markdown",
   "id": "304d0f60-2f39-44ac-8dfa-0924038d418c",
   "metadata": {},
   "source": [
    "4. La fonction _**move**_"
   ]
  },
  {
   "cell_type": "markdown",
   "id": "6ea42d88-0e3c-4be4-a1fd-45977684d706",
   "metadata": {},
   "source": [
    "L'agent se déplace au hasard de sa position actuelle à une cellule voisine."
   ]
  },
  {
   "cell_type": "markdown",
   "id": "6ef89c21-0c16-437d-9298-addc657fa1d2",
   "metadata": {},
   "source": [
    "**<span style=\"color:red\">\n",
    "SOLUTION\n",
    "</span>**"
   ]
  },
  {
   "cell_type": "code",
   "execution_count": null,
   "id": "3fbc150f-adda-4924-addf-bb5e328dff34",
   "metadata": {},
   "outputs": [],
   "source": []
  },
  {
   "cell_type": "markdown",
   "id": "1e7efb8d-5777-4668-b061-81babe8dca1f",
   "metadata": {},
   "source": [
    "5. Créez le système InfectionModel."
   ]
  },
  {
   "cell_type": "markdown",
   "id": "9db4321a-41ff-4bf7-8f4f-d9db62f8dbbf",
   "metadata": {},
   "source": [
    "* Le constructeur construit un système avec les arguments suivants :\n",
    "     * N : Nombre d’agents par défaut 10\n",
    "     * width et height : Tailles de la grille (largeur x hauteur) par défaut 10x10\n",
    "     * ptrans : Probabilité qu’un agent transmette la maladie. Par défaut 0,5, c’est à dire, lorsqu’un agent est infecté, il y a 50 % de chance qu’il transmette sa maladie aux autres agents aux alentours.\n",
    "     * death_rate : Probablité de décès d’un agent infecté (par défaut 2%).\n",
    "     * recovery_days et recovery_sd : Le nombre de jours de rétablissement pour un agent est calcué en se basant sur une distribution normale de moyenne recovery_days et d’écart type recovery_sd."
   ]
  },
  {
   "cell_type": "markdown",
   "id": "ab61c8e7-e7e5-4ada-9a35-6da43aa53aed",
   "metadata": {},
   "source": [
    "* La grille est de type MultiGrid\n",
    "* Le système permet une exécution quasi-simultanée des agents\n",
    "* on ajoute un datacollector pour collecter à chaque étape, la valeur de l'état de chaque agent du système. L'objectif est d'étudier l'évolution des cas suceptibles, infectés et immunisés en fonction du temps.\n",
    "* le constructeur crée et ajoute les  agents et les place au hasard dans la grille,\n",
    "* Certains agents représenteront les premiers cas infectés. Donc à sa création, un agent a 2% de chance d'être infecté. S'il l'est, pensez à lui changer son état et à lui attribuer à son attribut __recovery_time__ la valeur de model.get_recovery_time() "
   ]
  },
  {
   "cell_type": "markdown",
   "id": "acc12e44-825d-485e-8af4-28128488831f",
   "metadata": {},
   "source": [
    "Il s'agit d'une fonction que vous pouvez définir dans le modèle InfectionModel comme suit : "
   ]
  },
  {
   "cell_type": "code",
   "execution_count": null,
   "id": "c11197cf-9c02-40b4-bc19-d362e344c936",
   "metadata": {},
   "outputs": [],
   "source": [
    "def get_recovery_time(self):\n",
    "        return int(self.random.normalvariate(self.recovery_days,self.recovery_sd))"
   ]
  },
  {
   "cell_type": "markdown",
   "id": "ef67a65e-3e8b-414a-a4fc-4f9618112a81",
   "metadata": {},
   "source": [
    "cette fonction permet d'attribuer une durée de rétablisseent à un agent, de moyenne recovery_days et d'écrat type recovery_sd."
   ]
  },
  {
   "cell_type": "code",
   "execution_count": null,
   "id": "123a8f53-7582-412a-b4c4-ee27b74fbfa2",
   "metadata": {},
   "outputs": [],
   "source": [
    "from mesa import Agent, Model\n",
    "from enum import IntEnum\n",
    "import numpy\n",
    "from mesa.time import SimultaneousActivation\n",
    "\n",
    "class State(IntEnum):\n",
    "    SUSCEPTIBLE = 0 #susceptible d'être infecté\n",
    "    INFECTED = 1 #infecté\n",
    "    REMOVED = 2 #immunisé\n",
    "    \n",
    "class myAgent(Agent):\n",
    "    \n",
    "    #Le constructeur\n",
    "    def __init__(self, unique_id, model): \n",
    "        super().__init__(unique_id, model)\n",
    "        #attribution aléatoire de l'age selon la loi normale de moyenne 20 et d'écart-type 40\n",
    "        self.age = self.random.normalvariate(20,40)\n",
    "        self.state=State.SUSCEPTIBLE\n",
    "        self.infection_time=0\n",
    "    \n",
    "    #La fonction principale\n",
    "    def step(self):\n",
    "        self.status()\n",
    "        self.move()\n",
    "        self.contact()\n",
    "    \n",
    "    #La fonction pour vérifier l'état de l'agent (si infecté)\n",
    "    def status(self):\n",
    "        if self.state == State.INFECTED:\n",
    "            death_rate=self.model.death_rate\n",
    "            alive=numpy.random.choice([0,1], p=[death_rate,1-death_rate])\n",
    "            if alive==0:\n",
    "                self.model.scheduler.remove(self)\n",
    "            if self.infection_time+self.recovery_time<=self.model.schedule.time:\n",
    "                self.state=State.REMOVED\n",
    "    \n",
    "    def contact(self):\n",
    "        if self.state==State.INFECTED:\n",
    "            list_agents=self.model.grid.get_cell_list_contents([self.pos])\n",
    "            if len(list_agents)>1:\n",
    "                for a in list_agents:\n",
    "                    if a.state==State.SUSCEPTIBLE and self.random.random()<=self.model.ptrans :\n",
    "                        a.state=State.INFECTED\n",
    "                        a.infection_time=self.model.schedule.time\n",
    "                        a.recovery_time=self.model.get_recovery_time()\n",
    "    def move(self):\n",
    "        possible_steps = self.model.grid.get_neighborhood(self.pos,moore=True, include_center=True)\n",
    "        new_position = self.random.choice(possible_steps)\n",
    "        self.model.grid.move_agent(self, new_position)\n",
    "        \n",
    "class InfectionModel(Model):\n",
    "    def __init__(self, N=10, width=10, height=10,ptrans=0.5,death_rate=0.02,recovery_days=7,recovery_sd=21):\n",
    "        self.N = N\n",
    "        self.width=width\n",
    "        self.height=height\n",
    "        self.ptrans=ptrans\n",
    "        self.death_rate=death_rate\n",
    "        self.recovery_days=recovery_days\n",
    "        self.recovery_sd=recovery_sd\n",
    "        self.grid = MultiGrid(width, height, True) \n",
    "        self.schedule = SimultaneousActivation(self)\n",
    "\n",
    "        self.datacollector = DataCollector(agent_reporters={\"State\": \"state\"}) # \"Energy\": lambda a: a.energy\n",
    "\n",
    "        #Création des agents en infectant 2% de ces agents crées et rattachés au système\n",
    "        for i in range(self.num_agents):\n",
    "            a = MyAgent(i, self)\n",
    "            self.schedule.add(a)\n",
    "            # Add the agent to a random grid cell\n",
    "            x = self.random.randrange(self.grid.width) \n",
    "            y = self.random.randrange(self.grid.height) \n",
    "            self.grid.place_agent(a, (x, y))\n",
    "            infect=numpy.random.choice([0,1], p=[0.98,0.02])\n",
    "            if infected==1:\n",
    "                a.state=State.INFECTED\n",
    "                a.recovery_time=self.model.get_recovery_time()\n",
    "    \n",
    "    def get_recovery_time(self):\n",
    "        return int(self.random.normalvariate(self.recovery_days,self.recovery_sd))\n",
    "        "
   ]
  },
  {
   "cell_type": "markdown",
   "id": "d74c0fe2-89b9-44d6-9f17-f23742d2c76a",
   "metadata": {},
   "source": [
    "6. la fonction principale du modèle"
   ]
  },
  {
   "cell_type": "markdown",
   "id": "3313a24b-2b51-440c-bb1d-04e5386fb1f9",
   "metadata": {},
   "source": [
    "* A chaque étape (instant t), le système collecte les données avec le DataCollector avant de passer à l'instant t+1\n",
    "* Affichez un aperçu des données collectées"
   ]
  },
  {
   "cell_type": "code",
   "execution_count": null,
   "id": "cf431b86-eb87-47e3-94cc-dee3b138fadf",
   "metadata": {},
   "outputs": [],
   "source": [
    "from mesa import Agent, Model\n",
    "from enum import IntEnum\n",
    "import numpy\n",
    "from mesa.time import SimultaneousActivation\n",
    "\n",
    "class State(IntEnum):\n",
    "    SUSCEPTIBLE = 0 #susceptible d'être infecté\n",
    "    INFECTED = 1 #infecté\n",
    "    REMOVED = 2 #immunisé\n",
    "    \n",
    "class MyAgent(Agent):\n",
    "    \n",
    "    #Le constructeur\n",
    "    def __init__(self, unique_id, model): \n",
    "        super().__init__(unique_id, model)\n",
    "        #attribution aléatoire de l'age selon la loi normale de moyenne 20 et d'écart-type 40\n",
    "        self.age = self.random.normalvariate(20,40)\n",
    "        self.state=State.SUSCEPTIBLE\n",
    "        self.infection_time=0\n",
    "    \n",
    "    #La fonction principale\n",
    "    def step(self):\n",
    "        self.status()\n",
    "        self.move()\n",
    "        self.contact()\n",
    "    \n",
    "    #La fonction pour vérifier l'état de l'agent (si infecté)\n",
    "    def status(self):\n",
    "        if self.state == State.INFECTED:\n",
    "            death_rate=self.model.death_rate\n",
    "            alive=numpy.random.choice([0,1], p=[death_rate,1-death_rate])\n",
    "            if alive==0:\n",
    "                self.model.schedule.remove(self)\n",
    "            if self.infection_time+self.recovery_time<=self.model.schedule.time:\n",
    "                self.state=State.REMOVED\n",
    "    \n",
    "    def contact(self):\n",
    "        if self.state==State.INFECTED:\n",
    "            list_agents=self.model.grid.get_cell_list_contents([self.pos])\n",
    "            if len(list_agents)>1:\n",
    "                for a in list_agents:\n",
    "                    if a.state==State.SUSCEPTIBLE and self.random.random()<=self.model.ptrans :\n",
    "                        a.state=State.INFECTED\n",
    "                        a.infection_time=self.model.schedule.time\n",
    "                        a.recovery_time=self.model.get_recovery_time()\n",
    "    def move(self):\n",
    "        possible_steps = self.model.grid.get_neighborhood(self.pos,moore=True, include_center=True)\n",
    "        new_position = self.random.choice(possible_steps)\n",
    "        self.model.grid.move_agent(self, new_position)\n",
    "        \n",
    "class InfectionModel(Model):\n",
    "    def __init__(self, N=100, width=10, height=10,ptrans=0.5,death_rate=0.02,recovery_days=7,recovery_sd=21):\n",
    "        self.N = N\n",
    "        self.width=width\n",
    "        self.height=height\n",
    "        self.ptrans=ptrans\n",
    "        self.death_rate=death_rate\n",
    "        self.recovery_days=recovery_days\n",
    "        self.recovery_sd=recovery_sd\n",
    "        self.grid = MultiGrid(width, height, True) \n",
    "        self.schedule = SimultaneousActivation(self)\n",
    "\n",
    "        self.datacollector = DataCollector(agent_reporters={\"State\": \"state\"}) # \"Energy\": lambda a: a.energy\n",
    "\n",
    "        #Création des agents en infectant 2% de ces agents crées et rattachés au système\n",
    "        for i in range(self.N):\n",
    "            a = MyAgent(i, self)\n",
    "            self.schedule.add(a)\n",
    "            # Add the agent to a random grid cell\n",
    "            x = self.random.randrange(self.grid.width) \n",
    "            y = self.random.randrange(self.grid.height) \n",
    "            self.grid.place_agent(a, (x, y))\n",
    "            infect=numpy.random.choice([0,1], p=[0.98,0.02])\n",
    "            if infect==1:\n",
    "                a.state=State.INFECTED\n",
    "                a.recovery_time=self.get_recovery_time()\n",
    "    \n",
    "    #La fonction principale du SMA\n",
    "    def step(self): \n",
    "        self.datacollector.collect(self) \n",
    "        self.schedule.step()\n",
    "        \n",
    "    def get_recovery_time(self):\n",
    "        return int(self.random.normalvariate(self.recovery_days,self.recovery_sd))\n",
    "\n",
    "#Programme principal\n",
    "#Création du SMA et son exécution nbSteps fois\n",
    "sma=InfectionModel()\n",
    "nbSteps=400\n",
    "for i in range(nbSteps):\n",
    "    sma.step()\n",
    "\n",
    "#Récupération des données collectées\n",
    "state_agent = sma.datacollector.get_agent_vars_dataframe()\n",
    "print(state_agent)"
   ]
  },
  {
   "cell_type": "markdown",
   "id": "a209ea88-ff6f-4808-a5f7-5382e024d662",
   "metadata": {},
   "source": [
    "7. L'objectif maintenant est de croiser les données de manière à avoir à chaque étape, le nombre des agents susceptibles, infectés et immunisés. Vous pouvez utiliser la fonction suivante pour croiser les données : "
   ]
  },
  {
   "cell_type": "code",
   "execution_count": null,
   "id": "99133357-48d2-4bb2-a247-ea92c8e250ac",
   "metadata": {},
   "outputs": [],
   "source": [
    "from mesa import Agent, Model\n",
    "from enum import IntEnum\n",
    "import numpy\n",
    "from mesa.time import SimultaneousActivation\n",
    "import pandas as pnd\n",
    "\n",
    "class State(IntEnum):\n",
    "    SUSCEPTIBLE = 0 #susceptible d'être infecté\n",
    "    INFECTED = 1 #infecté\n",
    "    REMOVED = 2 #immunisé\n",
    "    \n",
    "class MyAgent(Agent):\n",
    "    \n",
    "    #Le constructeur\n",
    "    def __init__(self, unique_id, model): \n",
    "        super().__init__(unique_id, model)\n",
    "        #attribution aléatoire de l'age selon la loi normale de moyenne 20 et d'écart-type 40\n",
    "        self.age = self.random.normalvariate(20,40)\n",
    "        self.state=State.SUSCEPTIBLE\n",
    "        self.infection_time=0\n",
    "    \n",
    "    #La fonction principale\n",
    "    def step(self):\n",
    "        self.status()\n",
    "        self.move()\n",
    "        self.contact()\n",
    "    \n",
    "    #La fonction pour vérifier l'état de l'agent (si infecté)\n",
    "    def status(self):\n",
    "        if self.state == State.INFECTED:\n",
    "            death_rate=self.model.death_rate\n",
    "            alive=numpy.random.choice([0,1], p=[death_rate,1-death_rate])\n",
    "            if alive==0:\n",
    "                self.model.schedule.remove(self)\n",
    "            if self.infection_time+self.recovery_time<=self.model.schedule.time:\n",
    "                self.state=State.REMOVED\n",
    "    \n",
    "    def contact(self):\n",
    "        if self.state==State.INFECTED:\n",
    "            list_agents=self.model.grid.get_cell_list_contents([self.pos])\n",
    "            if len(list_agents)>1:\n",
    "                for a in list_agents:\n",
    "                    if a.state==State.SUSCEPTIBLE and self.random.random()<=self.model.ptrans :\n",
    "                        a.state=State.INFECTED\n",
    "                        a.infection_time=self.model.schedule.time\n",
    "                        a.recovery_time=self.model.get_recovery_time()\n",
    "    def move(self):\n",
    "        possible_steps = self.model.grid.get_neighborhood(self.pos,moore=True, include_center=True)\n",
    "        new_position = self.random.choice(possible_steps)\n",
    "        self.model.grid.move_agent(self, new_position)\n",
    "        \n",
    "class InfectionModel(Model):\n",
    "    def __init__(self, N=100, width=10, height=10,ptrans=0.5,death_rate=0.02,recovery_days=7,recovery_sd=21):\n",
    "        self.N = N\n",
    "        self.width=width\n",
    "        self.height=height\n",
    "        self.ptrans=ptrans\n",
    "        self.death_rate=death_rate\n",
    "        self.recovery_days=recovery_days\n",
    "        self.recovery_sd=recovery_sd\n",
    "        self.grid = MultiGrid(width, height, True) \n",
    "        self.schedule = SimultaneousActivation(self)\n",
    "\n",
    "        self.datacollector = DataCollector(agent_reporters={\"State\": \"state\"}) # \"Energy\": lambda a: a.energy\n",
    "\n",
    "        #Création des agents en infectant 2% de ces agents crées et rattachés au système\n",
    "        for i in range(self.N):\n",
    "            a = MyAgent(i, self)\n",
    "            self.schedule.add(a)\n",
    "            # Add the agent to a random grid cell\n",
    "            x = self.random.randrange(self.grid.width) \n",
    "            y = self.random.randrange(self.grid.height) \n",
    "            self.grid.place_agent(a, (x, y))\n",
    "            infect=numpy.random.choice([0,1], p=[0.98,0.02])\n",
    "            if infect==1:\n",
    "                a.state=State.INFECTED\n",
    "                a.recovery_time=self.get_recovery_time()\n",
    "    \n",
    "    #La fonction principale du SMA\n",
    "    def step(self): \n",
    "        self.datacollector.collect(self) \n",
    "        self.schedule.step()\n",
    "        \n",
    "    def get_recovery_time(self):\n",
    "        return int(self.random.normalvariate(self.recovery_days,self.recovery_sd))\n",
    "\n",
    "\n",
    "def get_column_data(model):\n",
    "    \"\"\"pivot the model dataframe to get states count at each step\"\"\"\n",
    "    agent_state = model.datacollector.get_agent_vars_dataframe()\n",
    "    X = pnd.pivot_table(agent_state.reset_index(),index='Step',columns='State',aggfunc=numpy.size,fill_value=0)    \n",
    "    labels = ['Susceptible','Infected','Removed']\n",
    "    X.columns = labels[:len(X.columns)]\n",
    "    return X\n",
    "\n",
    "#Programme principal\n",
    "#Création du SMA et son exécution nbSteps fois\n",
    "sma=InfectionModel()\n",
    "nbSteps=400\n",
    "for i in range(nbSteps):\n",
    "    sma.step()\n",
    "\n",
    "#Récupération des données collectées\n",
    "\n",
    "print(get_column_data(sma))"
   ]
  },
  {
   "cell_type": "markdown",
   "id": "432e8401-98d9-418e-b3f2-d3d94dbf7e0f",
   "metadata": {},
   "source": [
    "Remarquez l'utilisation de la fonction _pivot_table_ de la bibiothèque _pandas_ qui retourne une DataFrame. Elle crée un tableau croisé dynamique qui calcule par étape le nombre d’agents pour chaque état."
   ]
  },
  {
   "cell_type": "markdown",
   "id": "489366ad-3c3b-42fe-9b9a-16c09ff2be96",
   "metadata": {},
   "source": [
    "Affichez un aperçu de la dataFrame résultat."
   ]
  },
  {
   "cell_type": "code",
   "execution_count": null,
   "id": "dea7ca00-8c22-49b4-9dc8-995c2153db8c",
   "metadata": {},
   "outputs": [],
   "source": []
  },
  {
   "cell_type": "markdown",
   "id": "f2bbeadc-d23b-49ee-be4a-8247858ebdd7",
   "metadata": {},
   "source": [
    "8. Nous allons mainetnant procéder par l'affichage graphique avec la bibliothèque Bokeh : http://bokeh.org"
   ]
  },
  {
   "cell_type": "markdown",
   "id": "c2e6153c-3ae2-4dde-80e8-d6b999ff4ff0",
   "metadata": {},
   "source": [
    "Soit le code suivant :\n",
    "* La fonction **plot_states_bokeh** permet la création du 1er graphique comprenant 3 courbes représenant respectivement l'évolution du nombre d'agenrs par état.\n",
    "* La fonction **plot_cells_bokeh** permet la représentation graphiquiquement de la grille et son contenu."
   ]
  },
  {
   "cell_type": "code",
   "execution_count": null,
   "id": "7d97c215-1636-475a-a83a-c44e955f1a32",
   "metadata": {},
   "outputs": [],
   "source": [
    "import pandas as pnd\n",
    "from bokeh.models import ColumnDataSource, Line, Legend\n",
    "from bokeh.palettes import Category10\n",
    "from bokeh.plotting import figure\n",
    "from bokeh.io import push_notebook, output_notebook,output_file,show\n",
    "from bokeh.models import HoverTool, LinearColorMapper\n",
    "\n",
    "def plot_states_bokeh(model,title=''):\n",
    "    \"\"\"Plot cases per country\"\"\"\n",
    "\n",
    "    X = get_column_data(model)\n",
    "    X = X.reset_index()\n",
    "    source = ColumnDataSource(X)\n",
    "    i=0\n",
    "    colors = Category10[3]\n",
    "    items=[]\n",
    "    p = figure(width=600,height=400,tools=[],title=title,x_range=(0,100))        \n",
    "    for c in X.columns[1:]:\n",
    "        line = Line(x='Step',y=c, line_color=colors[i],line_width=3,line_alpha=.8,name=c)\n",
    "        glyph = p.add_glyph(source, line)\n",
    "        i+=1\n",
    "        items.append((c,[glyph]))\n",
    "\n",
    "    p.xaxis.axis_label = 'Step'\n",
    "    p.add_layout(Legend(location='center_right',   \n",
    "                items=items))\n",
    "    p.background_fill_color = \"#e1e1ea\"\n",
    "    p.background_fill_alpha = 0.5\n",
    "    p.legend.label_text_font_size = \"10pt\"\n",
    "    p.title.text_font_size = \"15pt\"\n",
    "    p.toolbar.logo = None\n",
    "    p.sizing_mode = 'scale_height'    \n",
    "    return p\n",
    "\n",
    "\n",
    "def plot_cells_bokeh(model):\n",
    "\n",
    "    agent_counts = np.zeros((model.grid.width, model.grid.height))\n",
    "    w=model.grid.width\n",
    "    df=grid_values(model)\n",
    "    df = pd.DataFrame(df.stack(), columns=['value']).reset_index()    \n",
    "    columns = ['value']\n",
    "    x = [(i, \"@%s\" %i) for i in columns]    \n",
    "    hover = HoverTool(\n",
    "        tooltips=x, point_policy='follow_mouse')\n",
    "    colors = Category10[3]\n",
    "    mapper = LinearColorMapper(palette=colors, low=df.value.min(), high=df.value.max())\n",
    "    p = figure(width=500,height=500, tools=[hover], x_range=(-1,w), y_range=(-1,w))\n",
    "    p.rect(x=\"level_0\", y=\"level_1\", width=1, height=1,\n",
    "       source=df,\n",
    "       fill_color={'field':'value', 'transform': mapper},\n",
    "       line_color='black')\n",
    "    p.background_fill_color = \"black\"\n",
    "    p.grid.grid_line_color = None    \n",
    "    p.axis.axis_line_color = None\n",
    "    p.toolbar.logo = None\n",
    "    return p\n",
    "\n",
    "def grid_values(model):\n",
    "    \"\"\"Get grid cell states\"\"\"\n",
    "\n",
    "    agent_counts = np.zeros((model.grid.width, model.grid.height))\n",
    "    w=model.grid.width\n",
    "    df=pd.DataFrame(agent_counts)\n",
    "    for cell in model.grid.coord_iter():\n",
    "        agents, (x, y) = cell\n",
    "        c=None\n",
    "        for a in agents:\n",
    "            c = a.state\n",
    "        df.iloc[x,y] = c\n",
    "    return df"
   ]
  },
  {
   "cell_type": "markdown",
   "id": "5ca7786b-2673-4c9d-8807-7a2e23614d8d",
   "metadata": {},
   "source": [
    "* Utilisez les fonctions ci-dessus pour l'affichage graphique au fur et à mesure des étapes. le programme principal pourrait être comme suit: "
   ]
  },
  {
   "cell_type": "code",
   "execution_count": null,
   "id": "f73c3623-a948-47f0-9afc-54a34ccec61a",
   "metadata": {},
   "outputs": [],
   "source": [
    "steps=400\n",
    "pop=400\n",
    "\n",
    "output_notebook()\n",
    "\n",
    "model = InfectionModel(pop, 20, 20, ptrans=0.25, death_rate=0.01)\n",
    "for i in range(steps):\n",
    "    model.step()\n",
    "    p1=plot_states_bokeh(model,title='step=%s' %i)\n",
    "    \n",
    "    p2=plot_cells_bokeh(model) \n",
    "    \n",
    "    show(p1)\n",
    "    show(p2)"
   ]
  },
  {
   "cell_type": "markdown",
   "id": "e431587c-e528-4094-94cf-affb4a633014",
   "metadata": {},
   "source": [
    "**<span style=\"color:red\">\n",
    "SOLUTION\n",
    "</span>**"
   ]
  },
  {
   "cell_type": "code",
   "execution_count": null,
   "id": "ab21f549-730a-40bd-b64a-0e73e545962b",
   "metadata": {},
   "outputs": [],
   "source": []
  },
  {
   "cell_type": "code",
   "execution_count": null,
   "id": "1d333f49-bacb-4bc3-9691-e58567e25e65",
   "metadata": {},
   "outputs": [],
   "source": []
  }
 ],
 "metadata": {
  "kernelspec": {
   "display_name": "Python 3 (ipykernel)",
   "language": "python",
   "name": "python3"
  },
  "language_info": {
   "codemirror_mode": {
    "name": "ipython",
    "version": 3
   },
   "file_extension": ".py",
   "mimetype": "text/x-python",
   "name": "python",
   "nbconvert_exporter": "python",
   "pygments_lexer": "ipython3",
   "version": "3.12.4"
  }
 },
 "nbformat": 4,
 "nbformat_minor": 5
}
