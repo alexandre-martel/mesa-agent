{
 "cells": [
  {
   "cell_type": "markdown",
   "id": "f8511db0-d0f7-4dbe-a5eb-115e0ad2047e",
   "metadata": {},
   "source": [
    "# Exercice"
   ]
  },
  {
   "cell_type": "markdown",
   "id": "5be00616-eb32-4ffe-945b-36cbe4006b21",
   "metadata": {},
   "source": [
    "L’objectif de ce TD est d'étudier la qualité de l’air en fonction du\n",
    "temps et de l’espace et son impact sur la santé humaine."
   ]
  },
  {
   "cell_type": "markdown",
   "id": "4efdfd70-5d55-4099-b81b-f2ff8814c44a",
   "metadata": {},
   "source": [
    "1. Créez un agent Capteur avec un attribut _**pollution**_ intialisé à 0. La fonction principale de l'agent affiche son numéro et sa position dans une grille."
   ]
  },
  {
   "cell_type": "markdown",
   "id": "a474e35f-f918-4e4d-b37a-3b81dcc01b72",
   "metadata": {},
   "source": [
    "**<span style=\"color:red\">\n",
    "SOLUTION\n",
    "</span>**"
   ]
  },
  {
   "cell_type": "code",
   "execution_count": 2,
   "id": "6614172a-b8e1-47bc-aa53-d960eec2c199",
   "metadata": {},
   "outputs": [],
   "source": [
    "from mesa import Agent\n",
    "\n",
    "class Capteur(Agent):\n",
    "    def __init__(self, unique_id, model):\n",
    "        super().__init__(unique_id, model)\n",
    "        self.pollution = 0\n",
    "    \n",
    "    def step(self):\n",
    "        print(f\"Agent {self.unique_id} est à la position {self.pos} avec un niveau de pollution de {self.pollution}\")"
   ]
  },
  {
   "cell_type": "markdown",
   "id": "4ffaf2fa-6f82-4ca5-a138-120d8370b201",
   "metadata": {},
   "source": [
    "2. Placez un agent capteur dans chaque cellule d'une grille de type _**MultiGrid**_ d'un SMA appelé _**AirPollutionModel**_ de taille LxH. Chaque agent capteur de type CAPTEUR affiche son numéro et sa position actuelle dans la grille. Testez le modèle."
   ]
  },
  {
   "cell_type": "markdown",
   "id": "6c78ef39-4f4c-401a-8a0b-6d829760ea1b",
   "metadata": {},
   "source": [
    "**<span style=\"color:red\">\n",
    "SOLUTION\n",
    "</span>**"
   ]
  },
  {
   "cell_type": "code",
   "execution_count": 3,
   "id": "b2df5ad3-c012-4841-96f9-99ce1d5497a6",
   "metadata": {},
   "outputs": [],
   "source": [
    "from mesa.space import MultiGrid\n",
    "from mesa.time import RandomActivation\n",
    "from mesa import Model\n",
    "\n",
    "class AirPollutionModel(Model):\n",
    "    def __init__(self, width, height):\n",
    "        self.grid = MultiGrid(width, height, True) \n",
    "        self.schedule = RandomActivation(self)\n",
    "        \n",
    "       \n",
    "        for x in range(width):\n",
    "            for y in range(height):\n",
    "                captur = Capteur((x, y), self)\n",
    "                self.grid.place_agent(captur, (x, y))\n",
    "                self.schedule.add(captur)\n",
    "\n",
    "    def step(self):\n",
    "        self.schedule.step()"
   ]
  },
  {
   "cell_type": "markdown",
   "id": "113a7ee6-25f6-4ee6-a9af-c7fc304437e0",
   "metadata": {},
   "source": [
    "3. Ajoutez un agent Polluant. Ce dernier a un attribut _**pollution**_ qui est mis à jour dans sa fonction _**status()**_ avec une valeur entière aléatoire correspondant à l'indicateur de pollution entre une borne inf et une borne sup initialisées au niveau de son constructeur. Le système est initialisé à NP agents polluants au niveau de son constructeur. Les agents polluants sont positionnés au hasard dans la grille à la construction du modèle puis se déplacent au hasard sur la même grille. Retestez le modèle en faisant en sorte que chaque agent polluant affiche sa position et la quantité de polluant émise. Chaque agent doit afficher son type avant d'annoncer son Id. Vous pouvez afficher le type d'un objet en Python avec la fonction **type** comme le montre l'exemple suivant :"
   ]
  },
  {
   "cell_type": "markdown",
   "id": "416e07e7-8a59-4364-9d1b-2cecf62c7f4b",
   "metadata": {},
   "source": [
    "**<span style=\"color:red\">\n",
    "EXEMPLE\n",
    "</span>**"
   ]
  },
  {
   "cell_type": "code",
   "execution_count": 6,
   "id": "3f55f660-3ca8-4653-ad5c-f78e6ae6b6c2",
   "metadata": {},
   "outputs": [],
   "source": [
    "import random\n",
    "\n",
    "class Polluant(Agent):\n",
    "    def __init__(self, unique_id, model, borne_inf, borne_sup):\n",
    "        super().__init__(unique_id, model)\n",
    "        self.pollution = 0  \n",
    "        self.borne_inf = borne_inf\n",
    "        self.borne_sup = borne_sup\n",
    "\n",
    "    def status(self):\n",
    "        self.pollution = random.randint(self.borne_inf, self.borne_sup)\n",
    "\n",
    "    def step(self):\n",
    "        self.status()\n",
    "        print(f\"Type: {type(self).__name__}, ID: {self.unique_id}, Position: {self.pos}, Pollution émise: {self.pollution}\")\n",
    "       \n",
    "        possible_steps = self.model.grid.get_neighborhood(self.pos, moore=True, include_center=False)\n",
    "        new_position = self.random.choice(possible_steps)\n",
    "        self.model.grid.move_agent(self, new_position)"
   ]
  },
  {
   "cell_type": "markdown",
   "id": "b1765988-f2f9-4d95-b196-3dc5680f6545",
   "metadata": {},
   "source": [
    "Pour l'affichage, remarquez l'utilisation de la fonction _**repr**_\n",
    "\\\n",
    "Au lieu de créer une fonction d'affichage, vous pouvez redéfinir cette fonction native _**repr**_ commune à toutes les classes de Python (comme la fonction __init__ correspondant au constructeur). Cette fonction, dédiée justement à l'affichage, est appelée automatiquement avec la fonction print."
   ]
  },
  {
   "cell_type": "markdown",
   "id": "7fedc9ce-e0cb-4ab3-9568-ad63060ff558",
   "metadata": {},
   "source": [
    "**<span style=\"color:red\">\n",
    "SOLUTION\n",
    "</span>**"
   ]
  },
  {
   "cell_type": "code",
   "execution_count": null,
   "id": "a320faf2-eb34-4b08-a91a-3ff161e771ae",
   "metadata": {},
   "outputs": [],
   "source": []
  },
  {
   "cell_type": "markdown",
   "id": "36b8a0eb-dd2e-446f-a9f1-8f205d18f6fc",
   "metadata": {},
   "source": [
    "4. L'agent Capteur capte la pollution émise par tous les agents polluants qui passent par sa position en l'additionnant à son indicateur de pollution. Ajoutez à l'agent Capteur la fonction contact qui correspond à ce comportement et retestez le système en affichant, à chaque étape, la quantité de polluant enregistrée par chaque capteur."
   ]
  },
  {
   "cell_type": "markdown",
   "id": "324fbacc-34ab-454e-8fb2-778ba645ac62",
   "metadata": {},
   "source": [
    "**<span style=\"color:red\">\n",
    "SOLUTION\n",
    "</span>**"
   ]
  },
  {
   "cell_type": "code",
   "execution_count": null,
   "id": "a9e27834-e56a-483d-aa56-59a3e2d4094d",
   "metadata": {},
   "outputs": [],
   "source": []
  },
  {
   "cell_type": "markdown",
   "id": "e1b784b5-beb1-4c2f-8437-3cf567dab40f",
   "metadata": {},
   "source": [
    "5. Ajoutez un agent Depolluant qui fonctionne exactement de la même manière que l'agent Polluant mais en faisant l'opération inverse. A chaque passage d'une cellule de la grille, il remet le niveau de pollution de cette dernière à 0. Cet agent a également un attribut pollution dans lequel on enregistre toute la quantité totale de polluant nettoyé. Ce comportement est codé dans la fonction contact puisque l'agent dépolluant doit entrer en contact avec l'agent Capteur. Retestez le modèle qui est initialisé avec un nombre d'agents dépolluant égal à ND."
   ]
  },
  {
   "cell_type": "markdown",
   "id": "d15ba0bf-d1c7-4d0e-bee4-80f96adb1928",
   "metadata": {},
   "source": [
    "**<span style=\"color:red\">\n",
    "SOLUTION\n",
    "</span>**"
   ]
  },
  {
   "cell_type": "code",
   "execution_count": null,
   "id": "014b8647-e82c-4ca9-88c5-9d05c1c11624",
   "metadata": {},
   "outputs": [],
   "source": []
  },
  {
   "cell_type": "markdown",
   "id": "8a8021c9-e2df-4ab0-a811-6a61248147dd",
   "metadata": {},
   "source": [
    "6. Ajoutez un DataCollecteur permettant d'enregister la moyenne de pollution dans l'air sur l'ensemble de la grille. Affichez la courbe qui représente l'évolution du niveau moyen de la pollution en fonction du temps."
   ]
  },
  {
   "cell_type": "code",
   "execution_count": null,
   "id": "4b2226b9-8486-4884-b43f-892d5347d9ec",
   "metadata": {},
   "outputs": [],
   "source": []
  },
  {
   "cell_type": "markdown",
   "id": "537cc167-7e3d-47c4-9dfa-28a14d306bd8",
   "metadata": {},
   "source": [
    "7. Ajoutez maintenant NH agents humains . Le système est initialisé à ces NH agents humains au niveau du constructeur. Ces derniers sont positionnés au hasard dans la grille à la construction du modèle puis se déplacent sur la grille en évitant la pollution (choix de la cellule la moins polluée). Initialement, l'agent humain démarre avec un état SAINT, son état change vers :\n",
    "* EXPOSÉ s'il a été déjà exposé à un niveau de pollution >N1\n",
    "* DANGER s'il a été exposé à un niveau de pollution >N2>N1\n",
    "* MALADE s'il a été exposé à un niveau de pollution >N3>N2>N1\n",
    "Changez le modèle de manière à ce qu'il soit paramétré avec N1, N2 et N3 et testez-le en créant une DataFrame qui compte le nombre d'agents saints, exposés, en danger ou malades en fonction du temps."
   ]
  },
  {
   "cell_type": "markdown",
   "id": "94c3ff17-fc8f-431b-bb38-b5254b4d87ab",
   "metadata": {},
   "source": [
    "**<span style=\"color:red\">\n",
    "SOLUTION\n",
    "</span>**"
   ]
  },
  {
   "cell_type": "code",
   "execution_count": null,
   "id": "7f5ade14-5c07-483c-8a29-1f41a7f00383",
   "metadata": {},
   "outputs": [],
   "source": []
  },
  {
   "cell_type": "markdown",
   "id": "d9f462b8-d347-4a8a-8efe-1b270e156cea",
   "metadata": {},
   "source": [
    "8. Créez le graphique qui affiche l'évolution en fonction du temps du nombre d'agents humains saints, exposés, en danger et malades. "
   ]
  },
  {
   "cell_type": "markdown",
   "id": "e04cd7e9-3be7-48b9-b76b-818376856abd",
   "metadata": {},
   "source": [
    "**<span style=\"color:red\">\n",
    "SOLUTION\n",
    "</span>**"
   ]
  },
  {
   "cell_type": "code",
   "execution_count": null,
   "id": "e41449d6-1d0c-4f0e-b348-62c3748e2ece",
   "metadata": {},
   "outputs": [],
   "source": []
  },
  {
   "cell_type": "markdown",
   "id": "acc5d90f-2719-4dfc-b7e0-121ba05480e5",
   "metadata": {},
   "source": [
    "9. Retracez le même graphique mais avec un déplacement aléatoire des agents Humains."
   ]
  },
  {
   "cell_type": "markdown",
   "id": "59707023-1bcc-476b-b924-14dd06c0fd95",
   "metadata": {},
   "source": [
    "**<span style=\"color:red\">\n",
    "SOLUTION\n",
    "</span>**"
   ]
  },
  {
   "cell_type": "code",
   "execution_count": null,
   "id": "bf2f5638-d81c-4826-8bc9-c4b3329e8338",
   "metadata": {},
   "outputs": [],
   "source": []
  }
 ],
 "metadata": {
  "kernelspec": {
   "display_name": "Python 3 (ipykernel)",
   "language": "python",
   "name": "python3"
  },
  "language_info": {
   "codemirror_mode": {
    "name": "ipython",
    "version": 3
   },
   "file_extension": ".py",
   "mimetype": "text/x-python",
   "name": "python",
   "nbconvert_exporter": "python",
   "pygments_lexer": "ipython3",
   "version": "3.12.4"
  }
 },
 "nbformat": 4,
 "nbformat_minor": 5
}
